{
 "cells": [
  {
   "cell_type": "markdown",
   "id": "0f731c3a",
   "metadata": {},
   "source": [
    "### Import stuff"
   ]
  },
  {
   "cell_type": "code",
   "execution_count": null,
   "id": "74eef52e",
   "metadata": {},
   "outputs": [],
   "source": [
    "import pandas as pd\n",
    "import numpy as np\n",
    "import matplotlib.pyplot as plt\n",
    "import seaborn as sns"
   ]
  },
  {
   "cell_type": "code",
   "execution_count": null,
   "id": "59429a92",
   "metadata": {},
   "outputs": [],
   "source": [
    "%%file tips_module.py\n",
    "'''\n",
    "Module with all custom-functions defined for this tips.csv exercise\n",
    "'''\n",
    "def top(df, n=5, col='tip_pct'):\n",
    "    '''\n",
    "    Gives top n rows using descending order.\n",
    "    In other words, TOP n\n",
    "\n",
    "\n",
    "    inputs:\n",
    "    - df: dataframe\n",
    "    - n: number of top elements\n",
    "    - col: column used for ordering\n",
    "\n",
    "    return:\n",
    "    - dataframe sorted by col with head(n)\n",
    "    '''\n",
    "    return df.sort_values(by=col, ascending=False).head(n)\n",
    "\n",
    "def top2"
   ]
  },
  {
   "cell_type": "code",
   "execution_count": null,
   "id": "a4787601",
   "metadata": {},
   "outputs": [],
   "source": [
    "! ls"
   ]
  },
  {
   "cell_type": "code",
   "execution_count": null,
   "id": "81747dde",
   "metadata": {},
   "outputs": [],
   "source": [
    "import tips_module as tps"
   ]
  },
  {
   "cell_type": "code",
   "execution_count": null,
   "id": "64de21e7",
   "metadata": {},
   "outputs": [],
   "source": [
    "from importlib import reload"
   ]
  },
  {
   "cell_type": "code",
   "execution_count": null,
   "id": "e9f5ac0a",
   "metadata": {},
   "outputs": [],
   "source": [
    "reload(tps)"
   ]
  },
  {
   "cell_type": "code",
   "execution_count": null,
   "id": "8f002a72",
   "metadata": {},
   "outputs": [],
   "source": [
    "tps.top?"
   ]
  },
  {
   "cell_type": "markdown",
   "id": "a1bad754",
   "metadata": {},
   "source": [
    "### Read the CSV"
   ]
  },
  {
   "cell_type": "code",
   "execution_count": null,
   "id": "ae62c8b7",
   "metadata": {},
   "outputs": [],
   "source": [
    "df = pd.read_csv('tips.csv')\n",
    "df.head()"
   ]
  },
  {
   "cell_type": "code",
   "execution_count": null,
   "id": "9f22a6eb",
   "metadata": {},
   "outputs": [],
   "source": [
    "df.describe()"
   ]
  },
  {
   "cell_type": "markdown",
   "id": "b97eb26e",
   "metadata": {},
   "source": [
    "### Scatter plot "
   ]
  },
  {
   "cell_type": "markdown",
   "id": "896f7f8c",
   "metadata": {},
   "source": [
    "tip - total bill"
   ]
  },
  {
   "cell_type": "code",
   "execution_count": null,
   "id": "7361cc23",
   "metadata": {},
   "outputs": [],
   "source": [
    "fig, ax = plt.subplots(figsize = (8,6))\n",
    "df.plot.scatter(y = 'tip', x = 'total_bill', ax=ax)\n",
    "plt.axhline(df['tip'].mean(), c='r')\n",
    "plt.axvline(df['total_bill'].mean(), c= 'r')\n",
    "plt.ylabel('Tip');\n",
    "plt.xlabel('Total bill');"
   ]
  },
  {
   "cell_type": "code",
   "execution_count": null,
   "id": "b3361cd4",
   "metadata": {},
   "outputs": [],
   "source": [
    "np.corrcoef(df['tip'],df['total_bill'])"
   ]
  },
  {
   "cell_type": "code",
   "execution_count": null,
   "id": "a4ee4034",
   "metadata": {},
   "outputs": [],
   "source": [
    "df.corr()"
   ]
  },
  {
   "cell_type": "code",
   "execution_count": null,
   "id": "e78dfe4b",
   "metadata": {},
   "outputs": [],
   "source": [
    "np.cov(df['tip'],df['total_bill'])"
   ]
  },
  {
   "cell_type": "markdown",
   "id": "535201d4",
   "metadata": {},
   "source": [
    "### Añadir columna"
   ]
  },
  {
   "cell_type": "code",
   "execution_count": null,
   "id": "5f9db2f9",
   "metadata": {},
   "outputs": [],
   "source": [
    "df['total_bill_per_person'] = df['total_bill'] / df['size']"
   ]
  },
  {
   "cell_type": "code",
   "execution_count": null,
   "id": "ed6b5f79",
   "metadata": {},
   "outputs": [],
   "source": [
    "df.head()"
   ]
  },
  {
   "cell_type": "code",
   "execution_count": null,
   "id": "9315fe70",
   "metadata": {},
   "outputs": [],
   "source": [
    "sns.pairplot(df);"
   ]
  },
  {
   "cell_type": "markdown",
   "id": "71f575fa",
   "metadata": {},
   "source": [
    "#### Top 5 gastos más grandes"
   ]
  },
  {
   "cell_type": "code",
   "execution_count": null,
   "id": "0f9a0a9a",
   "metadata": {},
   "outputs": [],
   "source": [
    "tps.top(df,5,'total_bill_per_person')"
   ]
  },
  {
   "cell_type": "code",
   "execution_count": null,
   "id": "f6618f11",
   "metadata": {},
   "outputs": [],
   "source": [
    "top_5_lunch = tps.top(df[df['time']=='Lunch'], 5, 'total_bill_per_person')\n",
    "top_5_lunch"
   ]
  },
  {
   "cell_type": "code",
   "execution_count": null,
   "id": "72a128a1",
   "metadata": {},
   "outputs": [],
   "source": [
    "top_5_dinner = tps.top(df[df['time']=='Dinner'], 5, 'total_bill_per_person')\n",
    "top_5_dinner"
   ]
  },
  {
   "cell_type": "code",
   "execution_count": null,
   "id": "5470cf47",
   "metadata": {},
   "outputs": [],
   "source": [
    "df.groupby('time').apply(tps.top, col = 'total_bill_per_person')"
   ]
  },
  {
   "cell_type": "markdown",
   "id": "a25f5eb1",
   "metadata": {},
   "source": [
    "#### Que personas son más generosas (H/M) (fumadores / no fumadores)"
   ]
  },
  {
   "cell_type": "code",
   "execution_count": null,
   "id": "74a54854",
   "metadata": {},
   "outputs": [],
   "source": [
    "stats = ['max', 'min', 'mean', 'std']"
   ]
  },
  {
   "cell_type": "code",
   "execution_count": null,
   "id": "bae0244b",
   "metadata": {},
   "outputs": [],
   "source": [
    "df.groupby('sex')[['total_bill_per_person', 'tip']].agg(stats).reset_index()"
   ]
  },
  {
   "cell_type": "code",
   "execution_count": null,
   "id": "7e7825ae",
   "metadata": {},
   "outputs": [],
   "source": [
    "tip_by_sex = df.groupby('sex')[['tip']].mean()"
   ]
  },
  {
   "cell_type": "code",
   "execution_count": null,
   "id": "33c08ced",
   "metadata": {},
   "outputs": [],
   "source": [
    "plt.hist(df['tip']);"
   ]
  },
  {
   "cell_type": "code",
   "execution_count": null,
   "id": "0574d490",
   "metadata": {},
   "outputs": [],
   "source": [
    "fig, ax = plt.subplots(figsize = (8,6))\n",
    "df.plot.scatter(y = 'tip', x = 'sex', ax=ax)\n",
    "df.plot.scatter(y = 'total_bill_per_person', x = 'sex', ax=ax, c='orange')\n",
    "plt.ylabel('Tip');\n",
    "plt.xlabel('Sex');"
   ]
  },
  {
   "cell_type": "code",
   "execution_count": null,
   "id": "20d838a9",
   "metadata": {},
   "outputs": [],
   "source": [
    "tips_male = df[df['sex'] == 'Male']['tip'].reset_index()"
   ]
  },
  {
   "cell_type": "code",
   "execution_count": null,
   "id": "b4dad625",
   "metadata": {},
   "outputs": [],
   "source": [
    "sns.boxplot(x=df[\"day\"], y =df[\"total_bill\"], hue = df[\"smoker\"]);"
   ]
  },
  {
   "cell_type": "code",
   "execution_count": null,
   "id": "6e4b9c2d",
   "metadata": {},
   "outputs": [],
   "source": [
    "#Vemos el 50% de los datos donde se encuentran.Los extremos son el min y max y te quita los outliers.\n",
    "#Muy util para comparar"
   ]
  },
  {
   "cell_type": "code",
   "execution_count": null,
   "id": "56010317",
   "metadata": {},
   "outputs": [],
   "source": [
    "sns.boxplot(x=df[\"smoker\"], y =df[\"tip\"], hue = df[\"sex\"], data = df);"
   ]
  },
  {
   "cell_type": "code",
   "execution_count": null,
   "id": "a2534d53",
   "metadata": {},
   "outputs": [],
   "source": [
    "#Los fumadores dan más propina"
   ]
  },
  {
   "cell_type": "code",
   "execution_count": null,
   "id": "40a52290",
   "metadata": {},
   "outputs": [],
   "source": [
    "df.groupby('smoker').agg(stats).T"
   ]
  },
  {
   "cell_type": "code",
   "execution_count": null,
   "id": "20cf0d16",
   "metadata": {},
   "outputs": [],
   "source": [
    "plt.hist(df[df['smoker'] == 'Yes']['tip']);\n",
    "plt.hist(df[df['smoker'] == 'No']['tip']);\n",
    "plt.hist?"
   ]
  },
  {
   "cell_type": "code",
   "execution_count": null,
   "id": "76071bf5",
   "metadata": {},
   "outputs": [],
   "source": [
    "plt.hist(df[df['smoker'] == 'Yes']['total_bill_per_person']);\n",
    "plt.hist(df[df['smoker'] == 'No']['total_bill_per_person']);"
   ]
  },
  {
   "cell_type": "code",
   "execution_count": null,
   "id": "7005d904",
   "metadata": {},
   "outputs": [],
   "source": [
    "sns.boxplot(x=df[\"day\"], y =df[\"tip\"], hue = df[\"smoker\"], data = df);"
   ]
  },
  {
   "cell_type": "code",
   "execution_count": null,
   "id": "975fb607",
   "metadata": {},
   "outputs": [],
   "source": [
    "df['tip_pct'] = df['tip'] / df['total_bill']"
   ]
  },
  {
   "cell_type": "code",
   "execution_count": null,
   "id": "7b970763",
   "metadata": {},
   "outputs": [],
   "source": [
    "df"
   ]
  },
  {
   "cell_type": "code",
   "execution_count": null,
   "id": "251e822a",
   "metadata": {},
   "outputs": [],
   "source": [
    "sns.boxplot(x=df[\"time\"], y =df[\"tip_pct\"], hue = df[\"smoker\"], data = df);"
   ]
  },
  {
   "cell_type": "code",
   "execution_count": null,
   "id": "a104dfc5",
   "metadata": {},
   "outputs": [],
   "source": [
    "df['total_bill_plus_tip'] = df['total_bill'] + df['tip']"
   ]
  },
  {
   "cell_type": "code",
   "execution_count": null,
   "id": "15126d2a",
   "metadata": {},
   "outputs": [],
   "source": []
  }
 ],
 "metadata": {
  "kernelspec": {
   "display_name": "Python 3 (ipykernel)",
   "language": "python",
   "name": "python3"
  },
  "language_info": {
   "codemirror_mode": {
    "name": "ipython",
    "version": 3
   },
   "file_extension": ".py",
   "mimetype": "text/x-python",
   "name": "python",
   "nbconvert_exporter": "python",
   "pygments_lexer": "ipython3",
   "version": "3.8.11"
  }
 },
 "nbformat": 4,
 "nbformat_minor": 5
}
