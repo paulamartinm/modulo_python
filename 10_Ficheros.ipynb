{
 "cells": [
  {
   "cell_type": "markdown",
   "metadata": {},
   "source": [
    "# Ficheros"
   ]
  },
  {
   "cell_type": "markdown",
   "metadata": {},
   "source": [
    "## Leer y escribir ficheros"
   ]
  },
  {
   "cell_type": "markdown",
   "metadata": {},
   "source": [
    "- Se abre el fichero con `open(path, modo)`.\n",
    "- Los modos de apertura son los siguientes:\n",
    "\n",
    "\n",
    "|Modo|Description|\n",
    "|----|---|\n",
    "|`'r'`| Read (default).\n",
    "|`'w'`| Write (truncate).|\n",
    "|`'x'`| Write or fail if the file already exists.|\n",
    "|`'a'`| Append.|\n",
    "|`'w+'`| Read and write (truncate).|\n",
    "|`'r+'`| Read and write from the start.|\n",
    "|`'a+'`| Read and write from the end.|\n",
    "|`'t'`| Text mode (default).|\n",
    "|`'b'`| Binary mode.|\n",
    "\n",
    "- Hay que cerrar el fichero una vez se ha terminado de trabajar con el mismo, con `fichero.close()`\n",
    "\n",
    "Nota: Normalmente, usamos funciones de más alto nivel para leer ficheros que automáticamente se ocupan del manejo del archivo (abrirlo, cerrarlo, los permisos necesarios, ...)"
   ]
  },
  {
   "cell_type": "code",
   "execution_count": null,
   "metadata": {},
   "outputs": [],
   "source": [
    "f = open(\"tmp/prueba.txt\", \"w\")\n",
    "f.write(\"Mi\\n\")\n",
    "f.write(\"primer\\n\")\n",
    "f.write(\"fichero!\\n\")"
   ]
  },
  {
   "cell_type": "code",
   "execution_count": null,
   "metadata": {},
   "outputs": [],
   "source": [
    "type(f)"
   ]
  },
  {
   "cell_type": "code",
   "execution_count": null,
   "metadata": {},
   "outputs": [],
   "source": [
    "f.readlines()\n",
    "f.writelines()"
   ]
  },
  {
   "cell_type": "markdown",
   "metadata": {},
   "source": [
    "## Métodos de archivos"
   ]
  },
  {
   "cell_type": "code",
   "execution_count": null,
   "metadata": {},
   "outputs": [],
   "source": [
    "from utils import midir"
   ]
  },
  {
   "cell_type": "code",
   "execution_count": null,
   "metadata": {},
   "outputs": [],
   "source": [
    "midir(f)"
   ]
  },
  {
   "cell_type": "code",
   "execution_count": null,
   "metadata": {},
   "outputs": [],
   "source": [
    "f.readable()"
   ]
  },
  {
   "cell_type": "code",
   "execution_count": null,
   "metadata": {},
   "outputs": [],
   "source": [
    "f.writable()"
   ]
  },
  {
   "cell_type": "code",
   "execution_count": null,
   "metadata": {},
   "outputs": [],
   "source": [
    "f.mode"
   ]
  },
  {
   "cell_type": "code",
   "execution_count": null,
   "metadata": {},
   "outputs": [],
   "source": [
    "f.name"
   ]
  },
  {
   "cell_type": "code",
   "execution_count": null,
   "metadata": {},
   "outputs": [],
   "source": [
    "f.closed"
   ]
  },
  {
   "cell_type": "code",
   "execution_count": null,
   "metadata": {},
   "outputs": [],
   "source": [
    "f.close()"
   ]
  },
  {
   "cell_type": "code",
   "execution_count": null,
   "metadata": {},
   "outputs": [],
   "source": [
    "f.closed"
   ]
  },
  {
   "cell_type": "markdown",
   "metadata": {},
   "source": [
    "## Context managers"
   ]
  },
  {
   "cell_type": "markdown",
   "metadata": {},
   "source": [
    "- Evitan que tengamos que estar pendientes de cerrar el fichero.\n",
    "- En general, administran recursos consumidos por nuestro código."
   ]
  },
  {
   "cell_type": "code",
   "execution_count": null,
   "metadata": {},
   "outputs": [],
   "source": [
    "with open('tmp/prueba.txt', 'w') as f:\n",
    "    f.write('Esto\\n')\n",
    "    f.write('es\\n')\n",
    "    f.write('una\\n')\n",
    "    f.write('prueba\\n')"
   ]
  },
  {
   "cell_type": "code",
   "execution_count": null,
   "metadata": {},
   "outputs": [],
   "source": [
    "f.closed"
   ]
  },
  {
   "cell_type": "markdown",
   "metadata": {},
   "source": [
    "- En el caso de abrir ficheros, la instancia `open(path, mode)` actúa de context manager.\n",
    "- Podemos definir nuestros propios context managers.\n",
    "- Todos los context managers tienen que tener implementados dos métodos:\n",
    "```python\n",
    "def __enter__()\n",
    "def __exit__()\n",
    "```"
   ]
  },
  {
   "cell_type": "code",
   "execution_count": null,
   "metadata": {},
   "outputs": [],
   "source": [
    "with open('tmp/prueba.txt', 'r') as f: \n",
    "    print(dir(f))"
   ]
  },
  {
   "cell_type": "markdown",
   "metadata": {},
   "source": [
    "- Para leer podemos usar los métodos:\n",
    "    - `read()` -> Leemos todo el fichero y devolvemos un string\n",
    "    - `readline()` -> Leemos sólo una línea\n",
    "    - `readlines()` -> Leemos todas las líneas y las devolvemos como una lista de strings."
   ]
  },
  {
   "cell_type": "code",
   "execution_count": null,
   "metadata": {},
   "outputs": [],
   "source": [
    "with open(\"tmp/prueba.txt\", \"r\") as f:\n",
    "    line = f.read()\n",
    "print(line)"
   ]
  },
  {
   "cell_type": "code",
   "execution_count": null,
   "metadata": {},
   "outputs": [],
   "source": [
    "with open(\"tmp/prueba.txt\", \"r\") as f:\n",
    "    line = f.readline()\n",
    "print(line)"
   ]
  },
  {
   "cell_type": "code",
   "execution_count": null,
   "metadata": {},
   "outputs": [],
   "source": [
    "with open(\"tmp/prueba.txt\", \"r\") as f:\n",
    "    lines = f.readlines()\n",
    "print(lines)"
   ]
  },
  {
   "cell_type": "markdown",
   "metadata": {},
   "source": [
    "## Pickle"
   ]
  },
  {
   "cell_type": "markdown",
   "metadata": {},
   "source": [
    "- Las variables se pueden guardar de forma serializada utilizando la librería `pickle`.\n",
    "- Esto significa que los objetos conservan su estructura de Python.\n",
    "    - Archivos `.pkl` sólo pueden leerse desde Python.\n",
    "- No es seguro! Sólo hacer \"unpickle\" de archivos en los que confiemos.\n",
    "- Como alternativa, es mejor usar archivos \n",
    "    - `.json` (JSON -> JavaScript Object Notation)\n",
    "    - `.csv` (CSV -> Comma-Separated Values).\n",
    "- Sin embargo, es útil para uso propio.\n",
    "    - Si cargamos un fichero con datos a los cuales limpiamos y damos estructura desde Python, entonces es útil guardar estos datos en un `.pkl` para no tener que volver aplicar el mismo proceso cuando queramos vovler a usarlo. \n",
    "- Para guardar:"
   ]
  },
  {
   "cell_type": "code",
   "execution_count": null,
   "metadata": {},
   "outputs": [],
   "source": [
    "import pickle"
   ]
  },
  {
   "cell_type": "code",
   "execution_count": null,
   "metadata": {},
   "outputs": [],
   "source": [
    "lista = ['hola', 'me', 'guardo']\n",
    "dicc = {'key': 'info'}\n",
    "def adios():\n",
    "    print('Adios!')"
   ]
  },
  {
   "cell_type": "code",
   "execution_count": null,
   "metadata": {},
   "outputs": [],
   "source": [
    "with open('tmp/variables.pkl', 'wb') as f:\n",
    "    pickle.dump(lista, f)\n",
    "    pickle.dump(dicc, f)\n",
    "    pickle.dump(adios, f)"
   ]
  },
  {
   "cell_type": "markdown",
   "metadata": {},
   "source": [
    "- Para leer:"
   ]
  },
  {
   "cell_type": "code",
   "execution_count": null,
   "metadata": {},
   "outputs": [],
   "source": [
    "with open('tmp/variables.pkl', 'rb') as f:\n",
    "    lista_g = pickle.load(f)\n",
    "    dicc_g = pickle.load(f)\n",
    "    adios_g = pickle.load(f)"
   ]
  },
  {
   "cell_type": "code",
   "execution_count": null,
   "metadata": {},
   "outputs": [],
   "source": [
    "lista_g"
   ]
  },
  {
   "cell_type": "code",
   "execution_count": null,
   "metadata": {},
   "outputs": [],
   "source": [
    "dicc_g"
   ]
  },
  {
   "cell_type": "code",
   "execution_count": null,
   "metadata": {},
   "outputs": [],
   "source": [
    "adios_g"
   ]
  },
  {
   "cell_type": "code",
   "execution_count": null,
   "metadata": {},
   "outputs": [],
   "source": [
    "adios_g()"
   ]
  },
  {
   "cell_type": "markdown",
   "metadata": {},
   "source": [
    "## JSON"
   ]
  },
  {
   "cell_type": "markdown",
   "metadata": {},
   "source": [
    "- Formato estandar para almacenar e intercambiar datos (otros: YAML, XML, CSV)\n",
    "- Python tienen un JSON decoder/encoder.\n",
    "- Los propios notebooks son documentos tipo `.json`.\n",
    "- Muy parecidos a un diccionario de Pyhon (pero no son lo mismo!)"
   ]
  },
  {
   "cell_type": "code",
   "execution_count": null,
   "metadata": {},
   "outputs": [],
   "source": [
    "import json"
   ]
  },
  {
   "cell_type": "code",
   "execution_count": null,
   "metadata": {},
   "outputs": [],
   "source": [
    "dic = {\n",
    "    'estaciones': {\n",
    "        'verano': 'calor',\n",
    "        'invierno': 'frío'\n",
    "    },\n",
    "    'números': [0, 5, 2.5]\n",
    "}"
   ]
  },
  {
   "cell_type": "code",
   "execution_count": null,
   "metadata": {},
   "outputs": [],
   "source": [
    "with open('tmp/json_data_1.json', 'w') as f:\n",
    "    json.dump(dic, f)"
   ]
  },
  {
   "cell_type": "code",
   "execution_count": null,
   "metadata": {},
   "outputs": [],
   "source": [
    "with open('tmp/json_data_2.json', 'w') as f:\n",
    "    json.dump(dic, f, indent=4)"
   ]
  },
  {
   "cell_type": "code",
   "execution_count": null,
   "metadata": {},
   "outputs": [],
   "source": [
    "with open('tmp/json_data_1.json', 'r') as f:\n",
    "    dic_g = json.load(f)"
   ]
  },
  {
   "cell_type": "code",
   "execution_count": null,
   "metadata": {},
   "outputs": [],
   "source": [
    "dic_g"
   ]
  },
  {
   "cell_type": "markdown",
   "metadata": {},
   "source": [
    "- También existen los métodos `dumps()` and `loads()` que interpretan un json que venga como una única string."
   ]
  },
  {
   "cell_type": "code",
   "execution_count": null,
   "metadata": {},
   "outputs": [],
   "source": [
    "json_string = json.dumps(dic)\n",
    "json_string"
   ]
  },
  {
   "cell_type": "code",
   "execution_count": null,
   "metadata": {},
   "outputs": [],
   "source": [
    "type(json_string)"
   ]
  },
  {
   "cell_type": "code",
   "execution_count": null,
   "metadata": {},
   "outputs": [],
   "source": [
    "dic_s = json.loads(json_string)\n",
    "print(dic_s)\n",
    "type(dic_s)"
   ]
  },
  {
   "cell_type": "markdown",
   "metadata": {},
   "source": [
    "- Muy útiles para descargar información de la web"
   ]
  },
  {
   "cell_type": "code",
   "execution_count": null,
   "metadata": {},
   "outputs": [],
   "source": [
    "import requests"
   ]
  },
  {
   "cell_type": "code",
   "execution_count": null,
   "metadata": {},
   "outputs": [],
   "source": [
    "respuesta = requests.get(\"https://jsonplaceholder.typicode.com/todos\")"
   ]
  },
  {
   "cell_type": "code",
   "execution_count": null,
   "metadata": {},
   "outputs": [],
   "source": [
    "midir(respuesta)"
   ]
  },
  {
   "cell_type": "code",
   "execution_count": null,
   "metadata": {},
   "outputs": [],
   "source": [
    "respuesta.text"
   ]
  },
  {
   "cell_type": "code",
   "execution_count": null,
   "metadata": {},
   "outputs": [],
   "source": [
    "import json"
   ]
  },
  {
   "cell_type": "code",
   "execution_count": null,
   "metadata": {},
   "outputs": [],
   "source": [
    "json_data = json.loads(respuesta.text)\n",
    "print(type(json_data))\n",
    "json_data[:5]"
   ]
  },
  {
   "cell_type": "markdown",
   "metadata": {},
   "source": [
    "- Por último, también podemos serializar objetos más complejos en un `.json` siempre y cuando implementemos un encoder y un decoder adecuado para ese objeto."
   ]
  }
 ],
 "metadata": {
  "kernelspec": {
   "display_name": "Python 3 (ipykernel)",
   "language": "python",
   "name": "python3"
  },
  "language_info": {
   "codemirror_mode": {
    "name": "ipython",
    "version": 3
   },
   "file_extension": ".py",
   "mimetype": "text/x-python",
   "name": "python",
   "nbconvert_exporter": "python",
   "pygments_lexer": "ipython3",
   "version": "3.8.11"
  }
 },
 "nbformat": 4,
 "nbformat_minor": 4
}
